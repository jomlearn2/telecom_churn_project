{
 "cells": [
  {
   "cell_type": "markdown",
   "metadata": {},
   "source": [
    "# Personal Project no. 1 - telecom customer churn\n",
    "\n",
    "## Notebook 1 - Data cleaning and EDA\n",
    "\n",
    "In this project, I will create predictive models to estimate whether a customer for a telecom company will turn over or churn. The data comes from an old Kaggle competition: https://www.kaggle.com/blastchar/telco-customer-churn/data#"
   ]
  },
  {
   "cell_type": "code",
   "execution_count": 1,
   "metadata": {},
   "outputs": [],
   "source": [
    "import pandas as pd\n",
    "import numpy as np\n",
    "import matplotlib.pyplot as plt\n",
    "%matplotlib inline\n",
    "import seaborn as sns\n",
    "\n",
    "from kmodes.kmodes import KModes\n",
    "from kmodes.kprototypes import KPrototypes\n",
    "from sklearn.model_selection import train_test_split\n",
    "from sklearn.preprocessing import StandardScaler\n",
    "from sklearn.linear_model import LogisticRegression\n",
    "from sklearn.tree import DecisionTreeClassifier\n",
    "from sklearn.metrics import confusion_matrix\n",
    "\n",
    "import warnings\n",
    "warnings.filterwarnings(\"ignore\")"
   ]
  },
  {
   "cell_type": "markdown",
   "metadata": {},
   "source": [
    "### Data import and cleaning\n",
    "\n",
    "From Kaggle:  \n",
    "\n",
    "Each row represents a customer, each column contains customer’s attributes described on the column Metadata.\n",
    "\n",
    "The data set includes information about:\n",
    "\n",
    "Customers who left within the last month – the column is called Churn\n",
    "Services that each customer has signed up for – phone, multiple lines, internet, online security, online backup, device protection, tech support, and streaming TV and movies\n",
    "Customer account information – how long they’ve been a customer, contract, payment method, paperless billing, monthly charges, and total charges\n",
    "Demographic info about customers – gender, age range, and if they have partners and dependents"
   ]
  },
  {
   "cell_type": "code",
   "execution_count": 2,
   "metadata": {},
   "outputs": [
    {
     "data": {
      "text/html": [
       "<div>\n",
       "<style scoped>\n",
       "    .dataframe tbody tr th:only-of-type {\n",
       "        vertical-align: middle;\n",
       "    }\n",
       "\n",
       "    .dataframe tbody tr th {\n",
       "        vertical-align: top;\n",
       "    }\n",
       "\n",
       "    .dataframe thead th {\n",
       "        text-align: right;\n",
       "    }\n",
       "</style>\n",
       "<table border=\"1\" class=\"dataframe\">\n",
       "  <thead>\n",
       "    <tr style=\"text-align: right;\">\n",
       "      <th></th>\n",
       "      <th>customerID</th>\n",
       "      <th>gender</th>\n",
       "      <th>SeniorCitizen</th>\n",
       "      <th>Partner</th>\n",
       "      <th>Dependents</th>\n",
       "      <th>tenure</th>\n",
       "      <th>PhoneService</th>\n",
       "      <th>MultipleLines</th>\n",
       "      <th>InternetService</th>\n",
       "      <th>OnlineSecurity</th>\n",
       "      <th>...</th>\n",
       "      <th>DeviceProtection</th>\n",
       "      <th>TechSupport</th>\n",
       "      <th>StreamingTV</th>\n",
       "      <th>StreamingMovies</th>\n",
       "      <th>Contract</th>\n",
       "      <th>PaperlessBilling</th>\n",
       "      <th>PaymentMethod</th>\n",
       "      <th>MonthlyCharges</th>\n",
       "      <th>TotalCharges</th>\n",
       "      <th>Churn</th>\n",
       "    </tr>\n",
       "  </thead>\n",
       "  <tbody>\n",
       "    <tr>\n",
       "      <th>0</th>\n",
       "      <td>7590-VHVEG</td>\n",
       "      <td>Female</td>\n",
       "      <td>0</td>\n",
       "      <td>Yes</td>\n",
       "      <td>No</td>\n",
       "      <td>1</td>\n",
       "      <td>No</td>\n",
       "      <td>No phone service</td>\n",
       "      <td>DSL</td>\n",
       "      <td>No</td>\n",
       "      <td>...</td>\n",
       "      <td>No</td>\n",
       "      <td>No</td>\n",
       "      <td>No</td>\n",
       "      <td>No</td>\n",
       "      <td>Month-to-month</td>\n",
       "      <td>Yes</td>\n",
       "      <td>Electronic check</td>\n",
       "      <td>29.85</td>\n",
       "      <td>29.85</td>\n",
       "      <td>No</td>\n",
       "    </tr>\n",
       "    <tr>\n",
       "      <th>1</th>\n",
       "      <td>5575-GNVDE</td>\n",
       "      <td>Male</td>\n",
       "      <td>0</td>\n",
       "      <td>No</td>\n",
       "      <td>No</td>\n",
       "      <td>34</td>\n",
       "      <td>Yes</td>\n",
       "      <td>No</td>\n",
       "      <td>DSL</td>\n",
       "      <td>Yes</td>\n",
       "      <td>...</td>\n",
       "      <td>Yes</td>\n",
       "      <td>No</td>\n",
       "      <td>No</td>\n",
       "      <td>No</td>\n",
       "      <td>One year</td>\n",
       "      <td>No</td>\n",
       "      <td>Mailed check</td>\n",
       "      <td>56.95</td>\n",
       "      <td>1889.5</td>\n",
       "      <td>No</td>\n",
       "    </tr>\n",
       "    <tr>\n",
       "      <th>2</th>\n",
       "      <td>3668-QPYBK</td>\n",
       "      <td>Male</td>\n",
       "      <td>0</td>\n",
       "      <td>No</td>\n",
       "      <td>No</td>\n",
       "      <td>2</td>\n",
       "      <td>Yes</td>\n",
       "      <td>No</td>\n",
       "      <td>DSL</td>\n",
       "      <td>Yes</td>\n",
       "      <td>...</td>\n",
       "      <td>No</td>\n",
       "      <td>No</td>\n",
       "      <td>No</td>\n",
       "      <td>No</td>\n",
       "      <td>Month-to-month</td>\n",
       "      <td>Yes</td>\n",
       "      <td>Mailed check</td>\n",
       "      <td>53.85</td>\n",
       "      <td>108.15</td>\n",
       "      <td>Yes</td>\n",
       "    </tr>\n",
       "    <tr>\n",
       "      <th>3</th>\n",
       "      <td>7795-CFOCW</td>\n",
       "      <td>Male</td>\n",
       "      <td>0</td>\n",
       "      <td>No</td>\n",
       "      <td>No</td>\n",
       "      <td>45</td>\n",
       "      <td>No</td>\n",
       "      <td>No phone service</td>\n",
       "      <td>DSL</td>\n",
       "      <td>Yes</td>\n",
       "      <td>...</td>\n",
       "      <td>Yes</td>\n",
       "      <td>Yes</td>\n",
       "      <td>No</td>\n",
       "      <td>No</td>\n",
       "      <td>One year</td>\n",
       "      <td>No</td>\n",
       "      <td>Bank transfer (automatic)</td>\n",
       "      <td>42.30</td>\n",
       "      <td>1840.75</td>\n",
       "      <td>No</td>\n",
       "    </tr>\n",
       "    <tr>\n",
       "      <th>4</th>\n",
       "      <td>9237-HQITU</td>\n",
       "      <td>Female</td>\n",
       "      <td>0</td>\n",
       "      <td>No</td>\n",
       "      <td>No</td>\n",
       "      <td>2</td>\n",
       "      <td>Yes</td>\n",
       "      <td>No</td>\n",
       "      <td>Fiber optic</td>\n",
       "      <td>No</td>\n",
       "      <td>...</td>\n",
       "      <td>No</td>\n",
       "      <td>No</td>\n",
       "      <td>No</td>\n",
       "      <td>No</td>\n",
       "      <td>Month-to-month</td>\n",
       "      <td>Yes</td>\n",
       "      <td>Electronic check</td>\n",
       "      <td>70.70</td>\n",
       "      <td>151.65</td>\n",
       "      <td>Yes</td>\n",
       "    </tr>\n",
       "  </tbody>\n",
       "</table>\n",
       "<p>5 rows × 21 columns</p>\n",
       "</div>"
      ],
      "text/plain": [
       "   customerID  gender  SeniorCitizen Partner Dependents  tenure PhoneService  \\\n",
       "0  7590-VHVEG  Female              0     Yes         No       1           No   \n",
       "1  5575-GNVDE    Male              0      No         No      34          Yes   \n",
       "2  3668-QPYBK    Male              0      No         No       2          Yes   \n",
       "3  7795-CFOCW    Male              0      No         No      45           No   \n",
       "4  9237-HQITU  Female              0      No         No       2          Yes   \n",
       "\n",
       "      MultipleLines InternetService OnlineSecurity  ...  DeviceProtection  \\\n",
       "0  No phone service             DSL             No  ...                No   \n",
       "1                No             DSL            Yes  ...               Yes   \n",
       "2                No             DSL            Yes  ...                No   \n",
       "3  No phone service             DSL            Yes  ...               Yes   \n",
       "4                No     Fiber optic             No  ...                No   \n",
       "\n",
       "  TechSupport StreamingTV StreamingMovies        Contract PaperlessBilling  \\\n",
       "0          No          No              No  Month-to-month              Yes   \n",
       "1          No          No              No        One year               No   \n",
       "2          No          No              No  Month-to-month              Yes   \n",
       "3         Yes          No              No        One year               No   \n",
       "4          No          No              No  Month-to-month              Yes   \n",
       "\n",
       "               PaymentMethod MonthlyCharges  TotalCharges Churn  \n",
       "0           Electronic check          29.85         29.85    No  \n",
       "1               Mailed check          56.95        1889.5    No  \n",
       "2               Mailed check          53.85        108.15   Yes  \n",
       "3  Bank transfer (automatic)          42.30       1840.75    No  \n",
       "4           Electronic check          70.70        151.65   Yes  \n",
       "\n",
       "[5 rows x 21 columns]"
      ]
     },
     "execution_count": 2,
     "metadata": {},
     "output_type": "execute_result"
    }
   ],
   "source": [
    "#import data and show the head\n",
    "df = pd.read_csv('datasets_13996_18858_WA_Fn-UseC_-Telco-Customer-Churn.csv')\n",
    "df.head()"
   ]
  },
  {
   "cell_type": "code",
   "execution_count": 3,
   "metadata": {},
   "outputs": [
    {
     "name": "stdout",
     "output_type": "stream",
     "text": [
      "<class 'pandas.core.frame.DataFrame'>\n",
      "RangeIndex: 7043 entries, 0 to 7042\n",
      "Data columns (total 21 columns):\n",
      "customerID          7043 non-null object\n",
      "gender              7043 non-null object\n",
      "SeniorCitizen       7043 non-null int64\n",
      "Partner             7043 non-null object\n",
      "Dependents          7043 non-null object\n",
      "tenure              7043 non-null int64\n",
      "PhoneService        7043 non-null object\n",
      "MultipleLines       7043 non-null object\n",
      "InternetService     7043 non-null object\n",
      "OnlineSecurity      7043 non-null object\n",
      "OnlineBackup        7043 non-null object\n",
      "DeviceProtection    7043 non-null object\n",
      "TechSupport         7043 non-null object\n",
      "StreamingTV         7043 non-null object\n",
      "StreamingMovies     7043 non-null object\n",
      "Contract            7043 non-null object\n",
      "PaperlessBilling    7043 non-null object\n",
      "PaymentMethod       7043 non-null object\n",
      "MonthlyCharges      7043 non-null float64\n",
      "TotalCharges        7043 non-null object\n",
      "Churn               7043 non-null object\n",
      "dtypes: float64(1), int64(2), object(18)\n",
      "memory usage: 1.1+ MB\n"
     ]
    }
   ],
   "source": [
    "df.info()"
   ]
  },
  {
   "cell_type": "code",
   "execution_count": 4,
   "metadata": {},
   "outputs": [
    {
     "data": {
      "text/plain": [
       "customerID          0\n",
       "gender              0\n",
       "SeniorCitizen       0\n",
       "Partner             0\n",
       "Dependents          0\n",
       "tenure              0\n",
       "PhoneService        0\n",
       "MultipleLines       0\n",
       "InternetService     0\n",
       "OnlineSecurity      0\n",
       "OnlineBackup        0\n",
       "DeviceProtection    0\n",
       "TechSupport         0\n",
       "StreamingTV         0\n",
       "StreamingMovies     0\n",
       "Contract            0\n",
       "PaperlessBilling    0\n",
       "PaymentMethod       0\n",
       "MonthlyCharges      0\n",
       "TotalCharges        0\n",
       "Churn               0\n",
       "dtype: int64"
      ]
     },
     "execution_count": 4,
     "metadata": {},
     "output_type": "execute_result"
    }
   ],
   "source": [
    "#look for null values\n",
    "df.isna().sum()"
   ]
  },
  {
   "cell_type": "code",
   "execution_count": 5,
   "metadata": {},
   "outputs": [
    {
     "name": "stdout",
     "output_type": "stream",
     "text": [
      "5176-LDKUH    1\n",
      "6685-XSHHU    1\n",
      "8327-WKMIE    1\n",
      "4737-HOBAX    1\n",
      "9734-UYXQI    1\n",
      "3301-VKTGC    1\n",
      "3162-ZJZFU    1\n",
      "5043-TRZWM    1\n",
      "1091-SOZGA    1\n",
      "2672-DZUOY    1\n",
      "0484-FFVBJ    1\n",
      "9840-DVNDC    1\n",
      "2692-AQCPF    1\n",
      "1428-GTBJJ    1\n",
      "4254-QPEDE    1\n",
      "0958-YHXGP    1\n",
      "9350-VLHMB    1\n",
      "6313-GIDIT    1\n",
      "8207-DMRVL    1\n",
      "7113-HIPFI    1\n",
      "2235-ZGKPT    1\n",
      "4402-FTBXC    1\n",
      "2694-CIUMO    1\n",
      "7508-DQAKK    1\n",
      "5419-KLXBN    1\n",
      "7905-TVXTA    1\n",
      "8775-ERLNB    1\n",
      "8035-PWSEV    1\n",
      "8690-ZVLCL    1\n",
      "4644-OBGFZ    1\n",
      "             ..\n",
      "2371-JUNGC    1\n",
      "4295-YURET    1\n",
      "5296-PSYVW    1\n",
      "3058-HJCUY    1\n",
      "1741-WTPON    1\n",
      "1852-XEMDW    1\n",
      "3363-EWLGO    1\n",
      "2038-LLMLM    1\n",
      "6390-DSAZX    1\n",
      "6734-CKRSM    1\n",
      "4360-PNRQB    1\n",
      "0318-QUUOB    1\n",
      "4487-ZYJZK    1\n",
      "9342-VNIMQ    1\n",
      "1150-FTQGN    1\n",
      "8080-POTJR    1\n",
      "3223-DWFIO    1\n",
      "3719-TDVQB    1\n",
      "6723-WSNTY    1\n",
      "4716-MRVEN    1\n",
      "7398-LXGYX    1\n",
      "0260-ZDLGK    1\n",
      "5091-HFAZW    1\n",
      "2625-TRCZQ    1\n",
      "6457-USBER    1\n",
      "7315-WYOAW    1\n",
      "7892-POOKP    1\n",
      "9136-ALYBR    1\n",
      "6285-FTQBF    1\n",
      "6583-KQJLK    1\n",
      "Name: customerID, Length: 7043, dtype: int64\n",
      "Male      3555\n",
      "Female    3488\n",
      "Name: gender, dtype: int64\n",
      "0    5901\n",
      "1    1142\n",
      "Name: SeniorCitizen, dtype: int64\n",
      "No     3641\n",
      "Yes    3402\n",
      "Name: Partner, dtype: int64\n",
      "No     4933\n",
      "Yes    2110\n",
      "Name: Dependents, dtype: int64\n",
      "1     613\n",
      "72    362\n",
      "2     238\n",
      "3     200\n",
      "4     176\n",
      "71    170\n",
      "5     133\n",
      "7     131\n",
      "8     123\n",
      "70    119\n",
      "9     119\n",
      "12    117\n",
      "10    116\n",
      "6     110\n",
      "13    109\n",
      "68    100\n",
      "15     99\n",
      "11     99\n",
      "67     98\n",
      "18     97\n",
      "69     95\n",
      "24     94\n",
      "22     90\n",
      "66     89\n",
      "35     88\n",
      "17     87\n",
      "23     85\n",
      "64     80\n",
      "56     80\n",
      "16     80\n",
      "     ... \n",
      "20     71\n",
      "62     70\n",
      "41     70\n",
      "53     70\n",
      "32     69\n",
      "54     68\n",
      "47     68\n",
      "50     68\n",
      "51     68\n",
      "58     67\n",
      "49     66\n",
      "43     65\n",
      "42     65\n",
      "31     65\n",
      "34     65\n",
      "37     65\n",
      "57     65\n",
      "55     64\n",
      "40     64\n",
      "48     64\n",
      "33     64\n",
      "21     63\n",
      "45     61\n",
      "59     60\n",
      "38     59\n",
      "28     57\n",
      "39     56\n",
      "44     51\n",
      "36     50\n",
      "0      11\n",
      "Name: tenure, Length: 73, dtype: int64\n",
      "Yes    6361\n",
      "No      682\n",
      "Name: PhoneService, dtype: int64\n",
      "No                  3390\n",
      "Yes                 2971\n",
      "No phone service     682\n",
      "Name: MultipleLines, dtype: int64\n",
      "Fiber optic    3096\n",
      "DSL            2421\n",
      "No             1526\n",
      "Name: InternetService, dtype: int64\n",
      "No                     3498\n",
      "Yes                    2019\n",
      "No internet service    1526\n",
      "Name: OnlineSecurity, dtype: int64\n",
      "No                     3088\n",
      "Yes                    2429\n",
      "No internet service    1526\n",
      "Name: OnlineBackup, dtype: int64\n",
      "No                     3095\n",
      "Yes                    2422\n",
      "No internet service    1526\n",
      "Name: DeviceProtection, dtype: int64\n",
      "No                     3473\n",
      "Yes                    2044\n",
      "No internet service    1526\n",
      "Name: TechSupport, dtype: int64\n",
      "No                     2810\n",
      "Yes                    2707\n",
      "No internet service    1526\n",
      "Name: StreamingTV, dtype: int64\n",
      "No                     2785\n",
      "Yes                    2732\n",
      "No internet service    1526\n",
      "Name: StreamingMovies, dtype: int64\n",
      "Month-to-month    3875\n",
      "Two year          1695\n",
      "One year          1473\n",
      "Name: Contract, dtype: int64\n",
      "Yes    4171\n",
      "No     2872\n",
      "Name: PaperlessBilling, dtype: int64\n",
      "Electronic check             2365\n",
      "Mailed check                 1612\n",
      "Bank transfer (automatic)    1544\n",
      "Credit card (automatic)      1522\n",
      "Name: PaymentMethod, dtype: int64\n",
      "20.05     61\n",
      "19.85     45\n",
      "19.95     44\n",
      "19.90     44\n",
      "20.00     43\n",
      "19.70     43\n",
      "19.65     43\n",
      "19.55     40\n",
      "20.15     40\n",
      "19.75     39\n",
      "20.25     39\n",
      "20.35     38\n",
      "19.80     38\n",
      "19.60     37\n",
      "20.10     37\n",
      "20.20     35\n",
      "19.50     32\n",
      "19.40     31\n",
      "20.45     31\n",
      "20.40     30\n",
      "19.45     28\n",
      "20.50     28\n",
      "20.30     28\n",
      "20.55     27\n",
      "19.35     25\n",
      "19.30     24\n",
      "20.65     23\n",
      "25.25     20\n",
      "25.10     19\n",
      "19.25     18\n",
      "          ..\n",
      "67.50      1\n",
      "33.50      1\n",
      "48.15      1\n",
      "31.10      1\n",
      "39.95      1\n",
      "81.65      1\n",
      "117.45     1\n",
      "107.00     1\n",
      "66.35      1\n",
      "62.30      1\n",
      "112.60     1\n",
      "110.70     1\n",
      "28.60      1\n",
      "108.60     1\n",
      "73.10      1\n",
      "39.55      1\n",
      "53.70      1\n",
      "21.30      1\n",
      "18.40      1\n",
      "67.60      1\n",
      "33.75      1\n",
      "29.40      1\n",
      "57.80      1\n",
      "34.55      1\n",
      "107.65     1\n",
      "114.75     1\n",
      "103.60     1\n",
      "113.40     1\n",
      "57.65      1\n",
      "113.30     1\n",
      "Name: MonthlyCharges, Length: 1585, dtype: int64\n",
      "           11\n",
      "20.2       11\n",
      "19.75       9\n",
      "20.05       8\n",
      "19.9        8\n",
      "19.65       8\n",
      "19.55       7\n",
      "45.3        7\n",
      "20.25       6\n",
      "19.45       6\n",
      "20.15       6\n",
      "20.3        5\n",
      "20.45       5\n",
      "50.15       4\n",
      "49.9        4\n",
      "69.6        4\n",
      "19.2        4\n",
      "19.3        4\n",
      "19.5        4\n",
      "20.4        4\n",
      "74.7        4\n",
      "69.9        4\n",
      "44.4        4\n",
      "19.95       4\n",
      "69.95       4\n",
      "19.85       4\n",
      "69.65       4\n",
      "19.4        4\n",
      "44          4\n",
      "20.35       4\n",
      "           ..\n",
      "931.9       1\n",
      "358.5       1\n",
      "4730.9      1\n",
      "2958.95     1\n",
      "213.35      1\n",
      "3091.75     1\n",
      "1094.5      1\n",
      "4707.85     1\n",
      "4575.35     1\n",
      "294.95      1\n",
      "164.85      1\n",
      "198.1       1\n",
      "370.65      1\n",
      "320.4       1\n",
      "1500.5      1\n",
      "161.5       1\n",
      "780.85      1\n",
      "1900.25     1\n",
      "955.15      1\n",
      "6827.5      1\n",
      "5625.55     1\n",
      "663.55      1\n",
      "3371.75     1\n",
      "4445.3      1\n",
      "89.75       1\n",
      "1821.95     1\n",
      "4759.85     1\n",
      "1266.1      1\n",
      "2838.55     1\n",
      "490.65      1\n",
      "Name: TotalCharges, Length: 6531, dtype: int64\n",
      "No     5174\n",
      "Yes    1869\n",
      "Name: Churn, dtype: int64\n"
     ]
    }
   ],
   "source": [
    "#examine the data for anomalies\n",
    "for i in df.columns:\n",
    "    print(df[i].value_counts())"
   ]
  },
  {
   "cell_type": "code",
   "execution_count": 6,
   "metadata": {},
   "outputs": [
    {
     "name": "stdout",
     "output_type": "stream",
     "text": [
      "7043\n",
      "7032\n"
     ]
    }
   ],
   "source": [
    "print(len(df))\n",
    "df = df[df['TotalCharges'] != ' ']\n",
    "print(len(df))"
   ]
  },
  {
   "cell_type": "code",
   "execution_count": 7,
   "metadata": {},
   "outputs": [],
   "source": [
    "df['SeniorCitizen'] = df['SeniorCitizen'].replace([1, 0], ['SeniorC', 'Not SeniorC'])\n",
    "df['TotalCharges'] = df['TotalCharges'].astype('float')"
   ]
  },
  {
   "cell_type": "code",
   "execution_count": 8,
   "metadata": {},
   "outputs": [
    {
     "data": {
      "text/plain": [
       "Index(['tenure', 'MonthlyCharges', 'TotalCharges'], dtype='object')"
      ]
     },
     "execution_count": 8,
     "metadata": {},
     "output_type": "execute_result"
    }
   ],
   "source": [
    "df._get_numeric_data().columns"
   ]
  },
  {
   "cell_type": "code",
   "execution_count": 9,
   "metadata": {},
   "outputs": [
    {
     "data": {
      "text/plain": [
       "<matplotlib.axes._subplots.AxesSubplot at 0x204ab484550>"
      ]
     },
     "execution_count": 9,
     "metadata": {},
     "output_type": "execute_result"
    },
    {
     "data": {
      "image/png": "[encoded data removed]",
      "text/plain": [
       "<Figure size 432x288 with 1 Axes>"
      ]
     },
     "metadata": {
      "needs_background": "light"
     },
     "output_type": "display_data"
    }
   ],
   "source": [
    "sns.countplot(x='SeniorCitizen', data=df)"
   ]
  },
  {
   "cell_type": "code",
   "execution_count": 10,
   "metadata": {},
   "outputs": [
    {
     "name": "stdout",
     "output_type": "stream",
     "text": [
      "<class 'pandas.core.frame.DataFrame'>\n",
      "Int64Index: 7032 entries, 0 to 7042\n",
      "Data columns (total 21 columns):\n",
      "customerID          7032 non-null object\n",
      "gender              7032 non-null object\n",
      "SeniorCitizen       7032 non-null object\n",
      "Partner             7032 non-null object\n",
      "Dependents          7032 non-null object\n",
      "tenure              7032 non-null int64\n",
      "PhoneService        7032 non-null object\n",
      "MultipleLines       7032 non-null object\n",
      "InternetService     7032 non-null object\n",
      "OnlineSecurity      7032 non-null object\n",
      "OnlineBackup        7032 non-null object\n",
      "DeviceProtection    7032 non-null object\n",
      "TechSupport         7032 non-null object\n",
      "StreamingTV         7032 non-null object\n",
      "StreamingMovies     7032 non-null object\n",
      "Contract            7032 non-null object\n",
      "PaperlessBilling    7032 non-null object\n",
      "PaymentMethod       7032 non-null object\n",
      "MonthlyCharges      7032 non-null int64\n",
      "TotalCharges        7032 non-null int64\n",
      "Churn               7032 non-null object\n",
      "dtypes: int64(3), object(18)\n",
      "memory usage: 1.5+ MB\n"
     ]
    }
   ],
   "source": [
    "for i in df.columns:\n",
    "    if df[i].dtype == 'float64':\n",
    "        df[i] = df[i].astype('int64')\n",
    "\n",
    "df.info()"
   ]
  },
  {
   "cell_type": "code",
   "execution_count": 12,
   "metadata": {},
   "outputs": [
    {
     "data": {
      "text/plain": [
       "gender              object\n",
       "SeniorCitizen       object\n",
       "Partner             object\n",
       "Dependents          object\n",
       "tenure               int64\n",
       "PhoneService        object\n",
       "MultipleLines       object\n",
       "InternetService     object\n",
       "OnlineSecurity      object\n",
       "OnlineBackup        object\n",
       "DeviceProtection    object\n",
       "TechSupport         object\n",
       "StreamingTV         object\n",
       "StreamingMovies     object\n",
       "Contract            object\n",
       "PaperlessBilling    object\n",
       "PaymentMethod       object\n",
       "MonthlyCharges       int64\n",
       "TotalCharges         int64\n",
       "Churn               object\n",
       "dtype: object"
      ]
     },
     "execution_count": 12,
     "metadata": {},
     "output_type": "execute_result"
    }
   ],
   "source": [
    "data_corr = df.iloc[:, [1, 2, 3, 4, 5, 6, 7, 8, 9, 10, 11, 12, 13, 14, 15, 16, 17, 18, 19, 20]]\n",
    "data_corr.dtypes"
   ]
  },
  {
   "cell_type": "code",
   "execution_count": 13,
   "metadata": {},
   "outputs": [
    {
     "data": {
      "text/plain": [
       "Index(['gender', 'SeniorCitizen', 'Partner', 'Dependents', 'tenure',\n",
       "       'PhoneService', 'MultipleLines', 'InternetService', 'OnlineSecurity',\n",
       "       'OnlineBackup', 'DeviceProtection', 'TechSupport', 'StreamingTV',\n",
       "       'StreamingMovies', 'Contract', 'PaperlessBilling', 'PaymentMethod',\n",
       "       'MonthlyCharges', 'TotalCharges', 'Churn'],\n",
       "      dtype='object')"
      ]
     },
     "execution_count": 13,
     "metadata": {},
     "output_type": "execute_result"
    }
   ],
   "source": [
    "data_corr.columns"
   ]
  },
  {
   "cell_type": "code",
   "execution_count": 16,
   "metadata": {},
   "outputs": [],
   "source": [
    "from dython.model_utils import roc_graph\n",
    "from dython.nominal import associations\n",
    "\n",
    "def associations_example():\n",
    "    associations(data_corr,nominal_columns=['gender', 'SeniorCitizen', 'Partner', 'Dependents', 'PhoneService', \n",
    "                                            'MultipleLines', 'InternetService', 'OnlineSecurity', 'OnlineBackup',\n",
    "                                            'DeviceProtection', 'TechSupport', 'StreamingTV', 'StreamingMovies', \n",
    "                                            'Contract', 'PaperlessBilling', 'PaymentMethod', 'Churn'])"
   ]
  },
  {
   "cell_type": "code",
   "execution_count": 17,
   "metadata": {},
   "outputs": [
    {
     "data": {
      "image/png": "[encoded data removed]",
      "text/plain": [
       "<Figure size 1440x1440 with 2 Axes>"
      ]
     },
     "metadata": {
      "needs_background": "light"
     },
     "output_type": "display_data"
    }
   ],
   "source": [
    "plt.rcParams[\"figure.figsize\"]=20,20\n",
    "associations_example()"
   ]
  },
  {
   "cell_type": "code",
   "execution_count": null,
   "metadata": {},
   "outputs": [],
   "source": []
  },
  {
   "cell_type": "code",
   "execution_count": null,
   "metadata": {},
   "outputs": [],
   "source": [
    "data.hist(figsize=(20,15));"
   ]
  },
  {
   "cell_type": "markdown",
   "metadata": {},
   "source": [
    "For most of the above graphs with just two columns - 0 represents no, 1 represents yes.\n",
    "\n",
    "Quick takeaways:\n",
    "- Churn is about 26% of the sample\n",
    "- Contract is about a 8:3:3 for month to month:1 year: 2 year\n",
    "- 5:2 split on whether customer has dependents\n",
    "- There are 1,520 cases of customers without Internet service - they show as 2 for [DeviceProtection, OnlineBackup, OnlineSecurity, StreamingTV, StreamingMovies, TechSupport] and as 0 for InternetService\n",
    "- Even split of males/females, partner/no partner, paperless billing/paper bills, whether or not customers stream tv and movies, DSL vs Fiber internet options, multiple lines option.\n",
    "- Most customers are not Senior Citizens\n",
    "- A little less than 10% don't have phone service\n",
    "- Approx 2:3 ratio (40%) of customers who subscribe to premium services if they have Internet service\n",
    "- The tenure shows a relatively steady customer onboarding with a certain percent sticking around for periods longer than a year - shown by the plateaued tenure from months 20 - 65. Seems like many leave after a year, but those who stay do so for a long time. Avg tenure is ~2.75 years.\n",
    "- Monthly Charges shows a spike in the low range - there are about 1500 in that range, which would suggest those are the customers without Internet packages) - and then a relatively normal distribution of the remaining charges, suggesting different packages and service options."
   ]
  },
  {
   "cell_type": "markdown",
   "metadata": {},
   "source": [
    "Initial thoughts/speculations/guesses:\n",
    "- Most senior citizens have phone but not internet service.\n",
    "- Additional services are mostly held by customers without dependents and with a partner (DINKs - dual income no kids) so disposable income."
   ]
  },
  {
   "cell_type": "code",
   "execution_count": null,
   "metadata": {},
   "outputs": [],
   "source": [
    "data.describe()"
   ]
  },
  {
   "cell_type": "markdown",
   "metadata": {},
   "source": [
    "### Feature importance and scaling"
   ]
  },
  {
   "cell_type": "code",
   "execution_count": null,
   "metadata": {},
   "outputs": [],
   "source": [
    "#examine if there is a relationship between tenure and Monthly Charges\n",
    "fig = plt.figure(figsize=(10,6))\n",
    "ax = plt.scatter(data['tenure'], data['MonthlyCharges'])\n",
    "plt.xlabel('Tenure in months')\n",
    "plt.ylabel('Total Charges in dollars')"
   ]
  },
  {
   "cell_type": "markdown",
   "metadata": {},
   "source": [
    "There is a clear split between groups who pay a minimum amount and remain with the company and then those who begin to pay for more expensive services and remain for a long time. It would be interesting to see who is in the group who pays the minimum and stays vs those who pay the most and stay. Middle package customers either don't stay, or those are new options."
   ]
  },
  {
   "cell_type": "markdown",
   "metadata": {},
   "source": [
    "I want to make the columns categorical and determine if there is any multicollinearity at play"
   ]
  },
  {
   "cell_type": "code",
   "execution_count": null,
   "metadata": {},
   "outputs": [],
   "source": [
    "#THIS is a good plot, I should make it for each initial variable against churn, two side by side plots\n",
    "\n",
    "#Here I plotted age against race to see if there is any indication of who the\n",
    "#patients are. It appears the majority of patients under 40 are not Asian or \n",
    "#Hispanic. This could speak to something about how Hispanic and Asian \n",
    "#patients experience diabetes.\n",
    "fig, ax = plt.subplots(figsize = (8,5))\n",
    "sns.despine(bottom=True, left=True)\n",
    "\n",
    "sns.stripplot(x='SeniorCitizen', y='TotalCharges', data=data, dodge=True, jitter=True)\n",
    "plt.show()"
   ]
  },
  {
   "cell_type": "code",
   "execution_count": null,
   "metadata": {},
   "outputs": [],
   "source": [
    "df.columns"
   ]
  },
  {
   "cell_type": "code",
   "execution_count": null,
   "metadata": {},
   "outputs": [],
   "source": [
    "#plotting independent variable correlation matrix\n",
    "correlation = abs(round(df.corr(), 2))\n",
    "f, ax = plt.subplots(figsize=(17, 17))\n",
    "sns.heatmap(correlation, annot = True, square=True)\n",
    "plt.title('Correlation Heatmap',fontweight='bold',fontsize=15)\n",
    "plt.show();"
   ]
  },
  {
   "cell_type": "markdown",
   "metadata": {},
   "source": [
    "Using a threshold of 0.75 for multicollinearity, I will have to drop a few variables. I will drop Total Charges instead of tenure. I will drop Multiple Lines 2, which signifies no multiple lines. "
   ]
  },
  {
   "cell_type": "code",
   "execution_count": null,
   "metadata": {},
   "outputs": [],
   "source": [
    "df.columns"
   ]
  },
  {
   "cell_type": "code",
   "execution_count": null,
   "metadata": {},
   "outputs": [],
   "source": [
    "#drop multiplelines 2 and TotalCharges\n",
    "dd = df[['gender', 'SeniorCitizen', 'Partner', 'Dependents', \n",
    "         'PhoneService', 'MultipleLines', 'OnlineSecurity', \n",
    "         'OnlineBackup', 'StreamingTV',  'Contract', 'PaperlessBilling', \n",
    "         'PaymentMethod', 'MonthlyCharges', 'TotalCharges', 'Churn']]"
   ]
  },
  {
   "cell_type": "code",
   "execution_count": null,
   "metadata": {},
   "outputs": [],
   "source": [
    "correlation = abs(round(dd.corr(), 2))\n",
    "f, ax = plt.subplots(figsize=(17, 17))\n",
    "sns.heatmap(correlation, annot = True, square=True)\n",
    "plt.title('Correlation Heatmap',fontweight='bold',fontsize=15)\n",
    "plt.show();"
   ]
  },
  {
   "cell_type": "code",
   "execution_count": null,
   "metadata": {},
   "outputs": [],
   "source": [
    "dd.describe()"
   ]
  },
  {
   "cell_type": "code",
   "execution_count": null,
   "metadata": {},
   "outputs": [],
   "source": [
    "dd.head()"
   ]
  },
  {
   "cell_type": "code",
   "execution_count": null,
   "metadata": {},
   "outputs": [],
   "source": [
    "y = dd.Churn\n",
    "X = dd.drop('Churn', axis=1)"
   ]
  },
  {
   "cell_type": "code",
   "execution_count": null,
   "metadata": {},
   "outputs": [],
   "source": [
    "X = X.reset_index()\n",
    "features = [i for i in X.columns]"
   ]
  },
  {
   "cell_type": "code",
   "execution_count": null,
   "metadata": {},
   "outputs": [],
   "source": [
    "kp = KPrototypes(n_clusters=4, init='Huang', n_init=15, verbose=1)\n",
    "kpclusters = kp.fit_predict(dd, categorical=[1,2])"
   ]
  },
  {
   "cell_type": "code",
   "execution_count": null,
   "metadata": {},
   "outputs": [],
   "source": [
    "#Here I am using a Standard Scaler to scale the continuous varaibles in the data.\n",
    "#This will normalize some of the features that have a wider range (age) for those\n",
    "#with a lower range (drugchange)\n",
    "a = X[X.columns[:3]]\n",
    "a = StandardScaler().fit_transform(a)\n",
    "b = pd.DataFrame(data=a, columns=features[:3])\n",
    "X = X.drop(features[:3], axis=1)\n",
    "X = X.merge(b, left_index=True, right_index=True)\n",
    "X = X.drop('index', axis=1)"
   ]
  },
  {
   "cell_type": "code",
   "execution_count": null,
   "metadata": {},
   "outputs": [],
   "source": [
    "X.head()"
   ]
  },
  {
   "cell_type": "code",
   "execution_count": null,
   "metadata": {},
   "outputs": [],
   "source": [
    "X_train, X_test, y_train, y_test = train_test_split(X, y, test_size=0.25, random_state=123)\n",
    "\n",
    "print(y_train.value_counts())\n",
    "\n",
    "print(y_test.value_counts())"
   ]
  },
  {
   "cell_type": "code",
   "execution_count": null,
   "metadata": {},
   "outputs": [],
   "source": [
    "#Generate a copy of the training and testing set for each model\n",
    "lrX_train = X_train\n",
    "lrX_test = X_test\n",
    "lry_train = y_train\n",
    "lry_test = y_test"
   ]
  },
  {
   "cell_type": "code",
   "execution_count": null,
   "metadata": {},
   "outputs": [],
   "source": [
    "#The first model will be Logistic Regression\n",
    "\n",
    "#Instantiate a LogReg classifier and fit the training sets\n",
    "\n",
    "#fit_intercept is set to False because we don't want a constant added to the \n",
    "#decision function. C is large to boost regularization and penalize misclasses.\n",
    "#solver is 'sag' or Stochastic Average Gradient decent solver\n",
    "logreg = LogisticRegression(fit_intercept=False, C=1e12, solver='sag')\n",
    "model_log = logreg.fit(lrX_train, lry_train)\n",
    "print(model_log)\n",
    "\n",
    "#setting the predicted train and test sets\n",
    "lry_hat_train = logreg.predict(lrX_train)\n",
    "lry_hat_test = logreg.predict(lrX_test)\n",
    "\n",
    "#because the target is currently set to 'Readmit' and 'No_readmit' I need\n",
    "#to code them as 0 and 1.\n",
    "lry_train = np.array([1 if i == 1 else 0 for i in lry_train])\n",
    "lry_hat_train = np.array([1 if i == 1 else 0 for i in lry_hat_train])\n",
    "\n",
    "\n",
    "#Calculate the residuals for the training set\n",
    "residuals = np.abs(lry_train - lry_hat_train)\n",
    "print('------------------------------------\\tTraining Accuracy')\n",
    "print(pd.Series(residuals).value_counts())\n",
    "print(pd.Series(residuals).value_counts(normalize=True))\n",
    "\n",
    "\n",
    "lry_test = np.array([1 if i == 1 else 0 for i in lry_test])\n",
    "lry_hat_test = np.array([1 if i == 1 else 0 for i in lry_hat_test])\n",
    "\n",
    "#Calculate the residuals for the testing set\n",
    "residuals = np.abs(lry_test - lry_hat_test)\n",
    "print('------------------------------------\\tTesting Accuracy')\n",
    "print(pd.Series(residuals).value_counts())\n",
    "print(pd.Series(residuals).value_counts(normalize=True))"
   ]
  },
  {
   "cell_type": "code",
   "execution_count": null,
   "metadata": {},
   "outputs": [],
   "source": [
    "dtX_train = X_train\n",
    "dtX_test = X_test\n",
    "dty_train = y_train\n",
    "dty_test = y_test\n",
    "\n",
    "#Same as the LR model, I need to recode the target classes\n",
    "dty_train = np.array([1 if i == 1 else 0 for i in dty_train])\n",
    "dty_test = np.array([1 if i == 1 else 0 for i in dty_test])"
   ]
  },
  {
   "cell_type": "code",
   "execution_count": null,
   "metadata": {},
   "outputs": [],
   "source": [
    "#Starting with a baseline classifier (parameter optimization will come later)\n",
    "#and only setting the random state of the model.\n",
    "dtclassifier = DecisionTreeClassifier(random_state=123)\n",
    "dtclassifier.fit(dtX_train, dty_train)\n",
    "print(dtclassifier.fit(dtX_train, dty_train))\n",
    "\n",
    "#This is the accuracy score of the baseline training model\n",
    "training_accuracy = dtclassifier.score(dtX_train, dty_train)\n",
    "\n",
    "#This is the accuracy score of the baseline test model\n",
    "test_accuracy = dtclassifier.score(dtX_test, dty_test)\n",
    "\n",
    "print(\"\")\n",
    "print('Baseline Training Accuracy: {:.4}%'.format(training_accuracy * 100))\n",
    "print('Baseline Test Accuracy: {:.4}%'.format(test_accuracy * 100))\n",
    "print(\"\")\n",
    "\n",
    "#This is a list of the amount of variance each feature seems to explain in the model\n",
    "print(dtclassifier.feature_importances_)\n",
    "\n",
    "\n",
    "#print a confusion matrix\n",
    "dty_hat_test = dtclassifier.predict(dtX_test)\n",
    "class_names = set(y)\n",
    "cnf_mat_dt = confusion_matrix(dty_test, dty_hat_test)"
   ]
  },
  {
   "cell_type": "code",
   "execution_count": null,
   "metadata": {},
   "outputs": [],
   "source": [
    "#This function allows a plpt of the feature importance of a given classifier\n",
    "#and the training data set. Feature importance allows us insight as to which \n",
    "#features provide the most information/explain the most variance in the data.\n",
    "\n",
    "def plot_feature_importances(model, train):\n",
    "    n_features = train.shape[1]\n",
    "    plt.figure(figsize=(15,10))\n",
    "    plt.barh(range(n_features), model.feature_importances_, align='center') \n",
    "    plt.yticks(np.arange(n_features), train.columns.values) \n",
    "    plt.xlabel('Feature importance')\n",
    "    plt.ylabel('Feature')\n",
    "\n",
    "plot_feature_importances(dtclassifier, dtX_train)"
   ]
  },
  {
   "cell_type": "code",
   "execution_count": null,
   "metadata": {},
   "outputs": [],
   "source": [
    "from sklearn.ensemble import RandomForestClassifier\n",
    "\n",
    "rfX_train = X_train\n",
    "rfX_test = X_test\n",
    "rfy_train = y_train\n",
    "rfy_test = y_test\n",
    "\n",
    "#Same as the LR model, I need to recode the target classes\n",
    "rfy_train = np.array([1 if i == 1 else 0 for i in rfy_train])\n",
    "rfy_test = np.array([1 if i == 1 else 0 for i in rfy_test])\n",
    "\n",
    "#Generate a baseline RandomForest Classifier. Default estimator is always a \n",
    "#Decision Tree classifier. The number of estimators defaults to 100. The \n",
    "#samples are being drawn with replacement because bootstrap defaults to True.\n",
    "rfclassifier = RandomForestClassifier(random_state=123, n_jobs=-1)\n",
    "print(rfclassifier.fit(rfX_train, rfy_train))\n",
    "\n",
    "#This is the accuracy score of the baseline training model\n",
    "training_accuracy = rfclassifier.score(rfX_train, rfy_train)\n",
    "\n",
    "#This is the accuracy score of the baseline testing model\n",
    "test_accuracy = rfclassifier.score(rfX_test, rfy_test)\n",
    "\n",
    "print(\"\")\n",
    "print('Baseline Training Accuracy: {:.4}%'.format(training_accuracy * 100))\n",
    "print('Baseline Test Accuracy: {:.4}%'.format(test_accuracy * 100))\n",
    "print(\"\")\n",
    "\n",
    "plot_feature_importances(rfclassifier, rfX_train)\n",
    "\n",
    "#plot a confusion matrix for the full forest\n",
    "rfy_hat_test = rfclassifier.predict(rfX_test)\n",
    "class_names = set(y)\n",
    "cnf_mat_rf = confusion_matrix(rfy_test, rfy_hat_test)"
   ]
  },
  {
   "cell_type": "markdown",
   "metadata": {},
   "source": [
    "From the modeling, it is clear that the training data is well fit, but the model is overfit which is causing a significant drop off in accuracy for the testing data. This is indicative of high variance."
   ]
  },
  {
   "cell_type": "code",
   "execution_count": null,
   "metadata": {},
   "outputs": [],
   "source": []
  },
  {
   "cell_type": "code",
   "execution_count": null,
   "metadata": {},
   "outputs": [],
   "source": []
  },
  {
   "cell_type": "code",
   "execution_count": null,
   "metadata": {},
   "outputs": [],
   "source": []
  },
  {
   "cell_type": "code",
   "execution_count": null,
   "metadata": {},
   "outputs": [],
   "source": []
  }
 ],
 "metadata": {
  "kernelspec": {
   "display_name": "Python 3",
   "language": "python",
   "name": "python3"
  },
  "language_info": {
   "codemirror_mode": {
    "name": "ipython",
    "version": 3
   },
   "file_extension": ".py",
   "mimetype": "text/x-python",
   "name": "python",
   "nbconvert_exporter": "python",
   "pygments_lexer": "ipython3",
   "version": "3.7.1"
  },
  "toc": {
   "base_numbering": 1,
   "nav_menu": {},
   "number_sections": true,
   "sideBar": true,
   "skip_h1_title": false,
   "title_cell": "Table of Contents",
   "title_sidebar": "Contents",
   "toc_cell": false,
   "toc_position": {},
   "toc_section_display": true,
   "toc_window_display": false
  },
  "varInspector": {
   "cols": {
    "lenName": 16,
    "lenType": 16,
    "lenVar": 40
   },
   "kernels_config": {
    "python": {
     "delete_cmd_postfix": "",
     "delete_cmd_prefix": "del ",
     "library": "var_list.py",
     "varRefreshCmd": "print(var_dic_list())"
    },
    "r": {
     "delete_cmd_postfix": ") ",
     "delete_cmd_prefix": "rm(",
     "library": "var_list.r",
     "varRefreshCmd": "cat(var_dic_list()) "
    }
   },
   "types_to_exclude": [
    "module",
    "function",
    "builtin_function_or_method",
    "instance",
    "_Feature"
   ],
   "window_display": false
  }
 },
 "nbformat": 4,
 "nbformat_minor": 2
}
